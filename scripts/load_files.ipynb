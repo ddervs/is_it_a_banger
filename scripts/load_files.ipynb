{
 "cells": [
  {
   "cell_type": "markdown",
   "metadata": {},
   "source": [
    "# Is it a banger? - Make your own dataset"
   ]
  },
  {
   "cell_type": "markdown",
   "metadata": {},
   "source": [
    "### TODO\n",
    "\n",
    "Discuss folder structure, `split_files.sh` script, duration of each clip, `p_include`"
   ]
  },
  {
   "cell_type": "markdown",
   "metadata": {},
   "source": [
    "#### Folder structure\n",
    "```\n",
    "data\n",
    "├── label_1\n",
    "├── label_2\n",
    "├──    ·\n",
    "├──    ·\n",
    "├──    ·\n",
    "└── label_k\n",
    "```\n",
    "\n",
    "For the given example **Need link here eventually**, we simply have\n",
    "\n",
    "```\n",
    "data\n",
    "├── banger\n",
    "└── not_a_banger\n",
    "```"
   ]
  },
  {
   "cell_type": "markdown",
   "metadata": {},
   "source": [
    "#### File splitting - EXPLAIN WHAT THIS DOES, UPDATE IF FILE CHANGED\n",
    "```bash\n",
    "#!/bin/bash\n",
    "\n",
    "SEGMENT_TIME=5 # in seconds\n",
    "DATA_ROOT_DIR=\"../data\"\n",
    "\n",
    "DIRS=$(find \"${DATA_ROOT_DIR}\" -maxdepth 1 -mindepth 1 -type d)\n",
    "\n",
    "# Make sure globstar is enabled\n",
    "shopt -s globstar\n",
    "\n",
    "for FILE in \"${DATA_ROOT_DIR}\"/**/*.mp3\n",
    "do \n",
    "    echo \"Processing ${FILE}\"\n",
    "    ffmpeg -i \"${FILE}\" -f segment -segment_time ${SEGMENT_TIME} -c copy \"${FILE%.*}\"%03d.wav                \n",
    "    rm \"${FILE}\"\n",
    "    rm \"$(ls -t \"${FILE%.*}\"*.wav | tail -n 1)\" # remove last file so uniform length\n",
    "done\n",
    "```"
   ]
  },
  {
   "cell_type": "code",
   "execution_count": 1,
   "metadata": {
    "collapsed": true
   },
   "outputs": [],
   "source": [
    "import os\n",
    "import glob\n",
    "import librosa\n",
    "import numpy as np\n",
    "np.random.seed(1234)\n",
    "import pandas as pd"
   ]
  },
  {
   "cell_type": "code",
   "execution_count": 4,
   "metadata": {
    "collapsed": true
   },
   "outputs": [],
   "source": [
    "parent_dir = '../data'\n",
    "parent_dir_contents = [os.path.join(parent_dir, dirname) for dirname in os.listdir(parent_dir)]\n",
    "sub_dirs = [filename if os.path.isdir(filename) else None for filename in parent_dir_contents]\n",
    "sub_dirs = list(filter(None.__ne__, sub_dirs))\n",
    "labels_list = [os.path.relpath(path, parent_dir) for path in sub_dirs]"
   ]
  },
  {
   "cell_type": "code",
   "execution_count": 8,
   "metadata": {
    "scrolled": true
   },
   "outputs": [],
   "source": [
    "def extract_features(file_name, sample_rate=22050, segment_time=1, samples_to_clip=500):\n",
    "    audio, sample_rate = librosa.load(file_name, sr=sample_rate)\n",
    "    end_idx = sample_rate * segment_time - samples_to_clip # remove some end samples as not strictly uniform size\n",
    "    audio = audio[0:end_idx]\n",
    "    log_specgram = librosa.logamplitude(np.abs(librosa.stft(audio))**2, ref_power=np.max)\n",
    "    features = {\"audio\": audio, \"log_specgram\": log_specgram}\n",
    "    return features\n",
    "\n",
    "def one_hot_encode(label, labels_list):\n",
    "    n_labels = len(labels_list)\n",
    "    one_hot_encoded = np.zeros(n_labels)\n",
    "    for idx, cmp in enumerate(labels_list):\n",
    "        if label == cmp:\n",
    "            one_hot_encoded[idx] = 1                     \n",
    "    return one_hot_encoded\n",
    "\n",
    "def trim_file_list(fnames_list, p_include=1.0):\n",
    "    fnames_list = np.asarray(fnames_list)\n",
    "    include = np.random.rand(*fnames_list.shape)\n",
    "    fnames_list = fnames_list[include < p_include]\n",
    "    return fnames_list\n",
    "    \n",
    "\n",
    "def parse_audio_files(parent_dir, sub_dirs_list, labels_list, file_ext='*.wav', p_include=1.0,\\\n",
    "                      sample_rate=22050, segment_time=1, samples_to_clip=500):\n",
    "    data = []\n",
    "    index = []\n",
    "    for label_idx, sub_dir in enumerate(sub_dirs_list):\n",
    "        fnames_list = glob.glob(os.path.join(sub_dir, \"*.wav\"))\n",
    "        fnames_list = trim_file_list(fnames_list, p_include=p_include)\n",
    "        for fname in fnames_list:\n",
    "            print(\"Processing \" + os.path.basename(fname))\n",
    "            features = extract_features(fname)\n",
    "            label = labels_list[label_idx]\n",
    "            label_one_hot = one_hot_encode(label, labels_list)\n",
    "            features['label'] = label\n",
    "            features[\"label_one_hot\"] = label_one_hot\n",
    "            data.append(features)\n",
    "            index.append(os.path.basename(fname))\n",
    "    return pd.DataFrame(data, index=index)"
   ]
  },
  {
   "cell_type": "code",
   "execution_count": 9,
   "metadata": {},
   "outputs": [
    {
     "name": "stdout",
     "output_type": "stream",
     "text": [
      "Processing 808 State - In Yer Face (Bicep Remix)008.wav\n",
      "Processing 808 State - In Yer Face (Bicep Remix)018.wav\n",
      "Processing 808 State - In Yer Face (Bicep Remix)019.wav\n",
      "Processing 808 State - In Yer Face (Bicep Remix)024.wav\n",
      "Processing 808 State - In Yer Face (Bicep Remix)026.wav\n",
      "Processing 808 State - In Yer Face (Bicep Remix)031.wav\n",
      "Processing 808 State - In Yer Face (Bicep Remix)051.wav\n",
      "Processing 808 State - In Yer Face (Bicep Remix)056.wav\n",
      "Processing 808 State - In Yer Face (Bicep Remix)058.wav\n",
      "Processing 808 State - In Yer Face (Bicep Remix)090.wav\n",
      "Processing Pacific_State_Will_Bailey_Remix011.wav\n",
      "Processing Pacific_State_Will_Bailey_Remix014.wav\n",
      "Processing Pacific_State_Will_Bailey_Remix015.wav\n",
      "Processing Pacific_State_Will_Bailey_Remix016.wav\n",
      "Processing Pacific_State_Will_Bailey_Remix029.wav\n",
      "Processing Pacific_State_Will_Bailey_Remix040.wav\n",
      "Processing Pacific_State_Will_Bailey_Remix049.wav\n",
      "Processing Pacific_State_Will_Bailey_Remix052.wav\n",
      "Processing Pacific_State_Will_Bailey_Remix058.wav\n",
      "Processing Pacific_State_Will_Bailey_Remix072.wav\n",
      "Processing Pacific_State_Will_Bailey_Remix078.wav\n",
      "Processing Pacific_State_Will_Bailey_Remix089.wav\n",
      "Processing Twinkle Twinkle Little Star021.wav\n",
      "Processing Twinkle Twinkle Little Star028.wav\n"
     ]
    }
   ],
   "source": [
    "df = parse_audio_files(parent_dir, sub_dirs, labels_list, p_include=0.1, segment_time=5)\n",
    "df = df.iloc[np.random.permutation(len(df))] # shuffle rows\n",
    "df.to_pickle(os.path.join(parent_dir, 'processed_dataset.pkl'))"
   ]
  },
  {
   "cell_type": "code",
   "execution_count": 10,
   "metadata": {},
   "outputs": [
    {
     "data": {
      "text/html": [
       "<div>\n",
       "<style>\n",
       "    .dataframe thead tr:only-child th {\n",
       "        text-align: right;\n",
       "    }\n",
       "\n",
       "    .dataframe thead th {\n",
       "        text-align: left;\n",
       "    }\n",
       "\n",
       "    .dataframe tbody tr th {\n",
       "        vertical-align: top;\n",
       "    }\n",
       "</style>\n",
       "<table border=\"1\" class=\"dataframe\">\n",
       "  <thead>\n",
       "    <tr style=\"text-align: right;\">\n",
       "      <th></th>\n",
       "      <th>audio</th>\n",
       "      <th>label</th>\n",
       "      <th>label_one_hot</th>\n",
       "      <th>log_specgram</th>\n",
       "    </tr>\n",
       "  </thead>\n",
       "  <tbody>\n",
       "    <tr>\n",
       "      <th>Pacific_State_Will_Bailey_Remix089.wav</th>\n",
       "      <td>[0.0, 0.0, 0.0, 0.0, 0.0, 0.0, 0.0, 0.0, 0.0, ...</td>\n",
       "      <td>banger</td>\n",
       "      <td>[1.0, 0.0]</td>\n",
       "      <td>[[-45.4622, -33.4534, -31.1523, -50.0221, -65....</td>\n",
       "    </tr>\n",
       "    <tr>\n",
       "      <th>Pacific_State_Will_Bailey_Remix011.wav</th>\n",
       "      <td>[0.0, 0.0, 0.0, 0.0, 0.0, 0.0, 0.0, 0.0, 0.0, ...</td>\n",
       "      <td>banger</td>\n",
       "      <td>[1.0, 0.0]</td>\n",
       "      <td>[[-32.9026, -23.5149, -23.0441, -36.4431, -62....</td>\n",
       "    </tr>\n",
       "    <tr>\n",
       "      <th>808 State - In Yer Face (Bicep Remix)058.wav</th>\n",
       "      <td>[0.0, 0.0, 0.0, 0.0, 0.0, 0.0, 0.0, 0.0, 0.0, ...</td>\n",
       "      <td>banger</td>\n",
       "      <td>[1.0, 0.0]</td>\n",
       "      <td>[[-45.6644, -46.1606, -52.6074, -61.5679, -62....</td>\n",
       "    </tr>\n",
       "    <tr>\n",
       "      <th>808 State - In Yer Face (Bicep Remix)031.wav</th>\n",
       "      <td>[0.0, 0.0, 0.0, 0.0, 0.0, 0.0, 0.0, 0.0, 0.0, ...</td>\n",
       "      <td>banger</td>\n",
       "      <td>[1.0, 0.0]</td>\n",
       "      <td>[[-35.3468, -42.0042, -80.0, -42.0002, -37.917...</td>\n",
       "    </tr>\n",
       "    <tr>\n",
       "      <th>Twinkle Twinkle Little Star021.wav</th>\n",
       "      <td>[0.0, 0.0, 0.0, 0.0, 0.0, 0.0, 0.0, 0.0, 0.0, ...</td>\n",
       "      <td>not_a_banger</td>\n",
       "      <td>[0.0, 1.0]</td>\n",
       "      <td>[[-72.6652, -59.9379, -55.9415, -66.4315, -63....</td>\n",
       "    </tr>\n",
       "    <tr>\n",
       "      <th>808 State - In Yer Face (Bicep Remix)008.wav</th>\n",
       "      <td>[0.0, 0.0, 0.0, 0.0, 0.0, 0.0, 0.0, 0.0, 0.0, ...</td>\n",
       "      <td>banger</td>\n",
       "      <td>[1.0, 0.0]</td>\n",
       "      <td>[[-41.8047, -41.0589, -64.2355, -47.7573, -42....</td>\n",
       "    </tr>\n",
       "    <tr>\n",
       "      <th>808 State - In Yer Face (Bicep Remix)051.wav</th>\n",
       "      <td>[0.0, 0.0, 0.0, 0.0, 0.0, 0.0, 0.0, 0.0, 0.0, ...</td>\n",
       "      <td>banger</td>\n",
       "      <td>[1.0, 0.0]</td>\n",
       "      <td>[[-25.1378, -21.8044, -25.6636, -50.0461, -50....</td>\n",
       "    </tr>\n",
       "    <tr>\n",
       "      <th>Pacific_State_Will_Bailey_Remix078.wav</th>\n",
       "      <td>[0.0, 0.0, 0.0, 0.0, 0.0, 0.0, 0.0, 0.0, 0.0, ...</td>\n",
       "      <td>banger</td>\n",
       "      <td>[1.0, 0.0]</td>\n",
       "      <td>[[-79.7082, -43.5325, -38.7551, -50.4211, -74....</td>\n",
       "    </tr>\n",
       "    <tr>\n",
       "      <th>Pacific_State_Will_Bailey_Remix058.wav</th>\n",
       "      <td>[0.0, 0.0, 0.0, 0.0, 0.0, 0.0, 0.0, 0.0, 0.0, ...</td>\n",
       "      <td>banger</td>\n",
       "      <td>[1.0, 0.0]</td>\n",
       "      <td>[[-39.3653, -29.7407, -31.3427, -80.0, -75.851...</td>\n",
       "    </tr>\n",
       "    <tr>\n",
       "      <th>Pacific_State_Will_Bailey_Remix016.wav</th>\n",
       "      <td>[0.0, 0.0, 0.0, 0.0, 0.0, 0.0, 0.0, 0.0, 0.0, ...</td>\n",
       "      <td>banger</td>\n",
       "      <td>[1.0, 0.0]</td>\n",
       "      <td>[[-45.1795, -41.0869, -38.5696, -80.0, -72.835...</td>\n",
       "    </tr>\n",
       "  </tbody>\n",
       "</table>\n",
       "</div>"
      ],
      "text/plain": [
       "                                                                                          audio  \\\n",
       "Pacific_State_Will_Bailey_Remix089.wav        [0.0, 0.0, 0.0, 0.0, 0.0, 0.0, 0.0, 0.0, 0.0, ...   \n",
       "Pacific_State_Will_Bailey_Remix011.wav        [0.0, 0.0, 0.0, 0.0, 0.0, 0.0, 0.0, 0.0, 0.0, ...   \n",
       "808 State - In Yer Face (Bicep Remix)058.wav  [0.0, 0.0, 0.0, 0.0, 0.0, 0.0, 0.0, 0.0, 0.0, ...   \n",
       "808 State - In Yer Face (Bicep Remix)031.wav  [0.0, 0.0, 0.0, 0.0, 0.0, 0.0, 0.0, 0.0, 0.0, ...   \n",
       "Twinkle Twinkle Little Star021.wav            [0.0, 0.0, 0.0, 0.0, 0.0, 0.0, 0.0, 0.0, 0.0, ...   \n",
       "808 State - In Yer Face (Bicep Remix)008.wav  [0.0, 0.0, 0.0, 0.0, 0.0, 0.0, 0.0, 0.0, 0.0, ...   \n",
       "808 State - In Yer Face (Bicep Remix)051.wav  [0.0, 0.0, 0.0, 0.0, 0.0, 0.0, 0.0, 0.0, 0.0, ...   \n",
       "Pacific_State_Will_Bailey_Remix078.wav        [0.0, 0.0, 0.0, 0.0, 0.0, 0.0, 0.0, 0.0, 0.0, ...   \n",
       "Pacific_State_Will_Bailey_Remix058.wav        [0.0, 0.0, 0.0, 0.0, 0.0, 0.0, 0.0, 0.0, 0.0, ...   \n",
       "Pacific_State_Will_Bailey_Remix016.wav        [0.0, 0.0, 0.0, 0.0, 0.0, 0.0, 0.0, 0.0, 0.0, ...   \n",
       "\n",
       "                                                     label label_one_hot  \\\n",
       "Pacific_State_Will_Bailey_Remix089.wav              banger    [1.0, 0.0]   \n",
       "Pacific_State_Will_Bailey_Remix011.wav              banger    [1.0, 0.0]   \n",
       "808 State - In Yer Face (Bicep Remix)058.wav        banger    [1.0, 0.0]   \n",
       "808 State - In Yer Face (Bicep Remix)031.wav        banger    [1.0, 0.0]   \n",
       "Twinkle Twinkle Little Star021.wav            not_a_banger    [0.0, 1.0]   \n",
       "808 State - In Yer Face (Bicep Remix)008.wav        banger    [1.0, 0.0]   \n",
       "808 State - In Yer Face (Bicep Remix)051.wav        banger    [1.0, 0.0]   \n",
       "Pacific_State_Will_Bailey_Remix078.wav              banger    [1.0, 0.0]   \n",
       "Pacific_State_Will_Bailey_Remix058.wav              banger    [1.0, 0.0]   \n",
       "Pacific_State_Will_Bailey_Remix016.wav              banger    [1.0, 0.0]   \n",
       "\n",
       "                                                                                   log_specgram  \n",
       "Pacific_State_Will_Bailey_Remix089.wav        [[-45.4622, -33.4534, -31.1523, -50.0221, -65....  \n",
       "Pacific_State_Will_Bailey_Remix011.wav        [[-32.9026, -23.5149, -23.0441, -36.4431, -62....  \n",
       "808 State - In Yer Face (Bicep Remix)058.wav  [[-45.6644, -46.1606, -52.6074, -61.5679, -62....  \n",
       "808 State - In Yer Face (Bicep Remix)031.wav  [[-35.3468, -42.0042, -80.0, -42.0002, -37.917...  \n",
       "Twinkle Twinkle Little Star021.wav            [[-72.6652, -59.9379, -55.9415, -66.4315, -63....  \n",
       "808 State - In Yer Face (Bicep Remix)008.wav  [[-41.8047, -41.0589, -64.2355, -47.7573, -42....  \n",
       "808 State - In Yer Face (Bicep Remix)051.wav  [[-25.1378, -21.8044, -25.6636, -50.0461, -50....  \n",
       "Pacific_State_Will_Bailey_Remix078.wav        [[-79.7082, -43.5325, -38.7551, -50.4211, -74....  \n",
       "Pacific_State_Will_Bailey_Remix058.wav        [[-39.3653, -29.7407, -31.3427, -80.0, -75.851...  \n",
       "Pacific_State_Will_Bailey_Remix016.wav        [[-45.1795, -41.0869, -38.5696, -80.0, -72.835...  "
      ]
     },
     "metadata": {},
     "output_type": "display_data"
    }
   ],
   "source": [
    "display(df[:10])"
   ]
  },
  {
   "cell_type": "markdown",
   "metadata": {
    "collapsed": true
   },
   "source": []
  }
 ],
 "metadata": {
  "kernelspec": {
   "display_name": "Python 3",
   "language": "python",
   "name": "python3"
  },
  "language_info": {
   "codemirror_mode": {
    "name": "ipython",
    "version": 3
   },
   "file_extension": ".py",
   "mimetype": "text/x-python",
   "name": "python",
   "nbconvert_exporter": "python",
   "pygments_lexer": "ipython3",
   "version": "3.5.4"
  }
 },
 "nbformat": 4,
 "nbformat_minor": 2
}
