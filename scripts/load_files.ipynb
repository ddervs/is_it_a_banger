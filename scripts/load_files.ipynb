{
 "cells": [
  {
   "cell_type": "markdown",
   "metadata": {},
   "source": [
    "# Is it a banger?"
   ]
  },
  {
   "cell_type": "code",
   "execution_count": 141,
   "metadata": {
    "collapsed": true
   },
   "outputs": [],
   "source": [
    "import glob\n",
    "import os\n",
    "import librosa\n",
    "import librosa.display\n",
    "import numpy as np\n",
    "import pandas as pd"
   ]
  },
  {
   "cell_type": "code",
   "execution_count": 142,
   "metadata": {},
   "outputs": [
    {
     "name": "stdout",
     "output_type": "stream",
     "text": [
      "['../data/banger', '../data/not_a_banger']\n",
      "['banger', 'not_a_banger']\n"
     ]
    }
   ],
   "source": [
    "parent_dir = '../data'\n",
    "parent_dir_contents = [os.path.join(parent_dir, dirname) for dirname in os.listdir(parent_dir)]\n",
    "sub_dirs = [filename if os.path.isdir(filename) else None for filename in parent_dir_contents]\n",
    "sub_dirs = list(filter(None.__ne__, sub_dirs))\n",
    "labels_list = [os.path.relpath(path, parent_dir) for path in sub_dirs]\n",
    "print(sub_dirs)\n",
    "print(labels)"
   ]
  },
  {
   "cell_type": "code",
   "execution_count": 147,
   "metadata": {
    "scrolled": true
   },
   "outputs": [],
   "source": [
    "def extract_feature(file_name, sample_rate=22050):\n",
    "    audio, sample_rate = librosa.load(file_name, sr=sample_rate)\n",
    "    log_specgram = librosa.logamplitude(np.abs(librosa.stft(audio))**2, ref_power=np.max)\n",
    "    features = {\"audio\": audio, \"log_specgram\": log_specgram}\n",
    "    return features\n",
    "\n",
    "def one_hot_encode(label, labels_list):\n",
    "    n_labels = len(labels_list)\n",
    "    one_hot_encoded = np.zeros(n_labels)\n",
    "    for idx, cmp in enumerate(labels_list):\n",
    "        if label == cmp:\n",
    "            one_hot_encoded[idx] = 1                     \n",
    "    return one_hot_encoded\n",
    "\n",
    "def trim_file_list(fnames_list, p_include=1.0):\n",
    "    fnames_list = np.asarray(fnames_list)\n",
    "    include = np.random.rand(*fnames_list.shape)\n",
    "    fnames_list = fnames_list[include < p_include]\n",
    "    return fnames_list\n",
    "    \n",
    "\n",
    "def parse_audio_files(parent_dir, sub_dirs_list, labels_list, file_ext='*.wav', p_include=1.0):\n",
    "    data = []\n",
    "    index = []\n",
    "    for label_idx, sub_dir in enumerate(sub_dirs_list):\n",
    "        fnames_list = glob.glob(os.path.join(sub_dir, \"*.wav\"))\n",
    "        fnames_list = trim_file_list(fnames_list, p_include=p_include)\n",
    "        for fname in fnames_list:\n",
    "            print(\"Processing \" + os.path.basename(fname))\n",
    "            features = extract_feature(fname)\n",
    "            label = labels_list[label_idx]\n",
    "            label_one_hot = one_hot_encode(label, labels_list)\n",
    "            features['label'] = labels_list[label_idx]\n",
    "            features[\"label_one_hot\"] = label_one_hot\n",
    "            data.append(features)\n",
    "            index.append(os.path.basename(fname))\n",
    "    return pd.DataFrame(data, index=index)"
   ]
  },
  {
   "cell_type": "code",
   "execution_count": 146,
   "metadata": {},
   "outputs": [
    {
     "name": "stdout",
     "output_type": "stream",
     "text": [
      "Processing 808 State - In Yer Face (Bicep Remix)002.wav\n",
      "Processing 808 State - In Yer Face (Bicep Remix)003.wav\n",
      "Processing 808 State - In Yer Face (Bicep Remix)004.wav\n",
      "Processing 808 State - In Yer Face (Bicep Remix)005.wav\n",
      "Processing 808 State - In Yer Face (Bicep Remix)009.wav\n",
      "Processing 808 State - In Yer Face (Bicep Remix)012.wav\n",
      "Processing 808 State - In Yer Face (Bicep Remix)015.wav\n",
      "Processing 808 State - In Yer Face (Bicep Remix)017.wav\n",
      "Processing 808 State - In Yer Face (Bicep Remix)021.wav\n",
      "Processing 808 State - In Yer Face (Bicep Remix)022.wav\n",
      "Processing 808 State - In Yer Face (Bicep Remix)026.wav\n",
      "Processing 808 State - In Yer Face (Bicep Remix)040.wav\n",
      "Processing 808 State - In Yer Face (Bicep Remix)041.wav\n",
      "Processing 808 State - In Yer Face (Bicep Remix)043.wav\n",
      "Processing 808 State - In Yer Face (Bicep Remix)045.wav\n",
      "Processing 808 State - In Yer Face (Bicep Remix)047.wav\n",
      "Processing 808 State - In Yer Face (Bicep Remix)048.wav\n",
      "Processing 808 State - In Yer Face (Bicep Remix)059.wav\n",
      "Processing 808 State - In Yer Face (Bicep Remix)074.wav\n",
      "Processing 808 State - In Yer Face (Bicep Remix)079.wav\n",
      "Processing 808 State - In Yer Face (Bicep Remix)080.wav\n",
      "Processing 808 State - In Yer Face (Bicep Remix)087.wav\n",
      "Processing Pacific_State_Will_Bailey_Remix001.wav\n",
      "Processing Pacific_State_Will_Bailey_Remix002.wav\n",
      "Processing Pacific_State_Will_Bailey_Remix003.wav\n",
      "Processing Pacific_State_Will_Bailey_Remix014.wav\n",
      "Processing Pacific_State_Will_Bailey_Remix017.wav\n",
      "Processing Pacific_State_Will_Bailey_Remix042.wav\n",
      "Processing Pacific_State_Will_Bailey_Remix051.wav\n",
      "Processing Pacific_State_Will_Bailey_Remix056.wav\n",
      "Processing Pacific_State_Will_Bailey_Remix058.wav\n",
      "Processing Pacific_State_Will_Bailey_Remix067.wav\n",
      "Processing Pacific_State_Will_Bailey_Remix072.wav\n",
      "Processing Pacific_State_Will_Bailey_Remix073.wav\n",
      "Processing Pacific_State_Will_Bailey_Remix074.wav\n",
      "Processing Pacific_State_Will_Bailey_Remix078.wav\n",
      "Processing Twinkle Twinkle Little Star000.wav\n",
      "Processing Twinkle Twinkle Little Star007.wav\n",
      "Processing Twinkle Twinkle Little Star009.wav\n",
      "Processing Twinkle Twinkle Little Star013.wav\n",
      "Processing Twinkle Twinkle Little Star017.wav\n",
      "Processing Twinkle Twinkle Little Star024.wav\n"
     ]
    }
   ],
   "source": [
    "df = parse_audio_files(parent_dir, sub_dirs, labels_list, p_include=0.2)\n",
    "df.to_pickle(os.path.join(parent_dir, 'processed_dataset_no_audio.pkl'))"
   ]
  },
  {
   "cell_type": "code",
   "execution_count": 139,
   "metadata": {},
   "outputs": [
    {
     "data": {
      "text/plain": [
       "array([ 0.        ,  0.        ,  0.        , ..., -0.01429847,\n",
       "       -0.01556006, -0.0168819 ], dtype=float32)"
      ]
     },
     "execution_count": 139,
     "metadata": {},
     "output_type": "execute_result"
    }
   ],
   "source": [
    "df.iloc[0][\"audio\"]"
   ]
  },
  {
   "cell_type": "code",
   "execution_count": 123,
   "metadata": {},
   "outputs": [],
   "source": []
  },
  {
   "cell_type": "code",
   "execution_count": null,
   "metadata": {
    "collapsed": true
   },
   "outputs": [],
   "source": []
  }
 ],
 "metadata": {
  "kernelspec": {
   "display_name": "Python 3",
   "language": "python",
   "name": "python3"
  },
  "language_info": {
   "codemirror_mode": {
    "name": "ipython",
    "version": 3
   },
   "file_extension": ".py",
   "mimetype": "text/x-python",
   "name": "python",
   "nbconvert_exporter": "python",
   "pygments_lexer": "ipython3",
   "version": "3.5.4"
  }
 },
 "nbformat": 4,
 "nbformat_minor": 2
}
